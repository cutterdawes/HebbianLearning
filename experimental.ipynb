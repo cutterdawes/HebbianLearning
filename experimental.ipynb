{
 "cells": [
  {
   "cell_type": "code",
   "execution_count": 3,
   "id": "2d3ef6eb-5851-477a-9773-21855a1471c8",
   "metadata": {},
   "outputs": [
    {
     "name": "stderr",
     "output_type": "stream",
     "text": [
      "/opt/anaconda3/envs/hebbian/lib/python3.8/site-packages/tqdm/auto.py:21: TqdmWarning: IProgress not found. Please update jupyter and ipywidgets. See https://ipywidgets.readthedocs.io/en/stable/user_install.html\n",
      "  from .autonotebook import tqdm as notebook_tqdm\n"
     ]
    }
   ],
   "source": [
    "import torch\n",
    "from torch import nn, optim\n",
    "import torch.nn.functional as F\n",
    "from torch.nn.modules.utils import _pair\n",
    "from torch.optim.lr_scheduler import StepLR\n",
    "from torch.utils.data import DataLoader\n",
    "from torchvision.datasets import MNIST"
   ]
  },
  {
   "cell_type": "markdown",
   "id": "763d1ebc-5558-471d-9bcc-b98596363135",
   "metadata": {},
   "source": [
    "# BP Baseline"
   ]
  },
  {
   "cell_type": "code",
   "execution_count": 6,
   "id": "ee6e77a2-afa6-44ef-b357-da166a746d44",
   "metadata": {},
   "outputs": [],
   "source": [
    "from genhebb import FastMNIST"
   ]
  },
  {
   "cell_type": "code",
   "execution_count": 20,
   "id": "1bf77ce3-3586-41f0-a8a3-77294fc2ce94",
   "metadata": {},
   "outputs": [],
   "source": [
    "class baseline(nn.Module):\n",
    "    def __init__(self):\n",
    "        super(baseline, self).__init__()\n",
    "        self.input = nn.Linear(28 * 28, 2000)\n",
    "        self.hidden = nn.Linear(2000, 2000)\n",
    "        self.output = nn.Linear(2000, 10)\n",
    "    \n",
    "    def forward(self, x):\n",
    "        x = x.view(-1, 28 * 28)\n",
    "        x = F.relu(self.input(x))\n",
    "        x = F.relu(self.hidden(x))\n",
    "        x = self.output(x)\n",
    "        return x"
   ]
  },
  {
   "cell_type": "code",
   "execution_count": null,
   "id": "76c1b60a-e809-4cd7-8a4c-14a0dab037fe",
   "metadata": {},
   "outputs": [],
   "source": [
    "epochs = 50\n",
    "learning_rate = 0.001\n",
    "batch_size = 64"
   ]
  },
  {
   "cell_type": "code",
   "execution_count": 23,
   "id": "db2daf6f-46d5-48a4-ac12-561aad4a66a1",
   "metadata": {},
   "outputs": [],
   "source": [
    "trainset = FastMNIST('./data', train=True, download=True)\n",
    "trainloader = DataLoader(trainset, batch_size=batch_size, shuffle=True)"
   ]
  },
  {
   "cell_type": "code",
   "execution_count": 16,
   "id": "c3a3ef05-68c5-4f45-800c-835e84fa26ba",
   "metadata": {},
   "outputs": [],
   "source": [
    "testset = FastMNIST('./data', train=False, download=True)\n",
    "testloader = DataLoader(testset, batch_size=batch_size, shuffle=False)"
   ]
  },
  {
   "cell_type": "code",
   "execution_count": 21,
   "id": "105a5dbc-dd95-42fc-9d43-a0792435f17a",
   "metadata": {},
   "outputs": [],
   "source": [
    "criterion = nn.CrossEntropyLoss()\n",
    "optimizer = optim.Adam(model.parameters(), lr=learning_rate)"
   ]
  },
  {
   "cell_type": "code",
   "execution_count": null,
   "id": "d9a19966-3315-4e12-9572-c4ad91d24ffd",
   "metadata": {},
   "outputs": [],
   "source": [
    "# train baseline model (BP end-to-end)\n",
    "for epoch in range(epochs):\n",
    "    model.train()\n",
    "    running_loss = 0.0\n",
    "    for images, labels in trainloader:\n",
    "\n",
    "        # zero the parameter gradients\n",
    "        optimizer.zero_grad()\n",
    "\n",
    "        # forward + backward + optimize\n",
    "        outputs = model(images)\n",
    "        loss = criterion(outputs, labels)\n",
    "        loss.backward()\n",
    "        optimizer.step()\n",
    "\n",
    "        # update training statistics\n",
    "        running_loss += loss.item()\n",
    "    print(f'Epoch [{epoch+1}/{epochs}], Loss: {running_loss/len(trainloader)}')"
   ]
  },
  {
   "cell_type": "code",
   "execution_count": null,
   "id": "1621a901-a3fe-475e-b2e5-b6defa4d818a",
   "metadata": {},
   "outputs": [],
   "source": [
    "model.eval()\n",
    "running_loss = 0.\n",
    "correct = 0\n",
    "total = 0\n",
    "# since we're not training, we don't need to calculate the gradients for our outputs\n",
    "with torch.no_grad():\n",
    "    for data in testloader:\n",
    "        images, labels = data\n",
    "        images = images.to(device)\n",
    "        labels = labels.to(device)\n",
    "        # calculate outputs by running images through the network\n",
    "        outputs = model(images)\n",
    "        # the class with the highest energy is what we choose as prediction\n",
    "        _, predicted = torch.max(outputs.data, 1)\n",
    "        total += labels.size(0)\n",
    "        correct += (predicted == labels).sum().item()\n",
    "        loss = criterion(outputs, labels)\n",
    "        running_loss += loss.item()\n",
    "\n",
    "print(f'Test accuracy: {100 * correct / total} %')\n",
    "print(f'test loss: {running_loss / total:.3f}')"
   ]
  },
  {
   "cell_type": "markdown",
   "id": "5e4189aa-ebb8-4583-8dbc-f25e8a7b8d84",
   "metadata": {},
   "source": [
    "**Results from Cajal cluster:**\n",
    "\n",
    "Training...\n",
    "Epoch [1/50], Loss: 0.188\n",
    "Epoch [2/50], Loss: 0.080\n",
    "Epoch [3/50], Loss: 0.058\n",
    "Epoch [4/50], Loss: 0.043\n",
    "Epoch [5/50], Loss: 0.034\n",
    "Epoch [6/50], Loss: 0.030\n",
    "Epoch [7/50], Loss: 0.027\n",
    "Epoch [8/50], Loss: 0.021\n",
    "Epoch [9/50], Loss: 0.026\n",
    "Epoch [10/50], Loss: 0.023\n",
    "Epoch [11/50], Loss: 0.014\n",
    "Epoch [12/50], Loss: 0.017\n",
    "Epoch [13/50], Loss: 0.017\n",
    "Epoch [14/50], Loss: 0.017\n",
    "Epoch [15/50], Loss: 0.016\n",
    "Epoch [16/50], Loss: 0.013\n",
    "Epoch [17/50], Loss: 0.013\n",
    "Epoch [18/50], Loss: 0.017\n",
    "Epoch [19/50], Loss: 0.010\n",
    "Epoch [20/50], Loss: 0.014\n",
    "Epoch [21/50], Loss: 0.012\n",
    "Epoch [22/50], Loss: 0.011\n",
    "Epoch [23/50], Loss: 0.012\n",
    "Epoch [24/50], Loss: 0.016\n",
    "Epoch [25/50], Loss: 0.010\n",
    "Epoch [26/50], Loss: 0.009\n",
    "Epoch [27/50], Loss: 0.009\n",
    "Epoch [28/50], Loss: 0.009\n",
    "Epoch [29/50], Loss: 0.016\n",
    "Epoch [30/50], Loss: 0.008\n",
    "Epoch [31/50], Loss: 0.013\n",
    "Epoch [32/50], Loss: 0.009\n",
    "Epoch [33/50], Loss: 0.012\n",
    "Epoch [34/50], Loss: 0.008\n",
    "Epoch [35/50], Loss: 0.013\n",
    "Epoch [36/50], Loss: 0.012\n",
    "Epoch [37/50], Loss: 0.015\n",
    "Epoch [38/50], Loss: 0.004\n",
    "Epoch [39/50], Loss: 0.019\n",
    "Epoch [40/50], Loss: 0.013\n",
    "Epoch [41/50], Loss: 0.008\n",
    "Epoch [42/50], Loss: 0.010\n",
    "Epoch [43/50], Loss: 0.009\n",
    "Epoch [44/50], Loss: 0.012\n",
    "Epoch [45/50], Loss: 0.011\n",
    "Epoch [46/50], Loss: 0.006\n",
    "Epoch [47/50], Loss: 0.009\n",
    "Epoch [48/50], Loss: 0.011\n",
    "Epoch [49/50], Loss: 0.008\n",
    "Epoch [50/50], Loss: 0.011\n",
    "Testing...\n",
    "Accuracy: 98.33 %\n",
    "Loss: 0.004"
   ]
  },
  {
   "cell_type": "markdown",
   "id": "18bcd7f9-00b3-42d0-a090-5b41fb6bcd6c",
   "metadata": {},
   "source": [
    "# Hebb's Rule"
   ]
  },
  {
   "cell_type": "code",
   "execution_count": 87,
   "id": "5d3078e3-cce8-45de-93f6-73d5142c2274",
   "metadata": {},
   "outputs": [],
   "source": [
    "x = torch.Tensor((1, 2, 3, 4))\n",
    "x2 = torch.Tensor(((1, 2, 3, 4), (1, 2, 3, 4)))"
   ]
  },
  {
   "cell_type": "code",
   "execution_count": 42,
   "id": "df007676-ed37-4401-832f-23fd0b8a67bf",
   "metadata": {},
   "outputs": [
    {
     "data": {
      "text/plain": [
       "torch.Size([4])"
      ]
     },
     "execution_count": 42,
     "metadata": {},
     "output_type": "execute_result"
    }
   ],
   "source": [
    "x.shape"
   ]
  },
  {
   "cell_type": "code",
   "execution_count": 43,
   "id": "addc1d69-2fde-458c-b2f4-a291dd863782",
   "metadata": {},
   "outputs": [],
   "source": [
    "y = torch.Tensor((-1, 1, -1, 1))"
   ]
  },
  {
   "cell_type": "code",
   "execution_count": 54,
   "id": "4ba5ec31-c4ff-4241-9906-bfb59828d90a",
   "metadata": {},
   "outputs": [
    {
     "data": {
      "text/plain": [
       "tensor(2.)"
      ]
     },
     "execution_count": 54,
     "metadata": {},
     "output_type": "execute_result"
    }
   ],
   "source": [
    "torch.matmul(x, y)"
   ]
  },
  {
   "cell_type": "code",
   "execution_count": 53,
   "id": "663b6e05-c65b-4040-b001-0df69d923856",
   "metadata": {},
   "outputs": [
    {
     "data": {
      "text/plain": [
       "tensor([2., 2.])"
      ]
     },
     "execution_count": 53,
     "metadata": {},
     "output_type": "execute_result"
    }
   ],
   "source": [
    "torch.matmul(x2, y)"
   ]
  },
  {
   "cell_type": "code",
   "execution_count": 60,
   "id": "8ee36445-877d-4e6b-bbf1-080cbbb6696b",
   "metadata": {},
   "outputs": [
    {
     "data": {
      "text/plain": [
       "torch.Size([4])"
      ]
     },
     "execution_count": 60,
     "metadata": {},
     "output_type": "execute_result"
    }
   ],
   "source": [
    "y.shape"
   ]
  },
  {
   "cell_type": "code",
   "execution_count": 81,
   "id": "a8b215c5-28c0-46a4-8ed4-e867208a0213",
   "metadata": {},
   "outputs": [
    {
     "data": {
      "text/plain": [
       "tensor([[[-1.,  1., -1.,  1.]]])"
      ]
     },
     "execution_count": 81,
     "metadata": {},
     "output_type": "execute_result"
    }
   ],
   "source": [
    "y.view(1, -1).unsqueeze(0)"
   ]
  },
  {
   "cell_type": "code",
   "execution_count": 82,
   "id": "87b9d468-5ee4-42a7-9b89-c16f58f33df6",
   "metadata": {},
   "outputs": [
    {
     "data": {
      "text/plain": [
       "torch.Size([2, 4, 4])"
      ]
     },
     "execution_count": 82,
     "metadata": {},
     "output_type": "execute_result"
    }
   ],
   "source": [
    "(x2.unsqueeze(-1) * y.unsqueeze(0)).shape"
   ]
  },
  {
   "cell_type": "code",
   "execution_count": 88,
   "id": "0cc8b365-ce11-486d-b4fe-bd0474beb168",
   "metadata": {},
   "outputs": [
    {
     "data": {
      "text/plain": [
       "tensor([[-1.,  2., -3.,  4.],\n",
       "        [-1.,  2., -3.,  4.]])"
      ]
     },
     "execution_count": 88,
     "metadata": {},
     "output_type": "execute_result"
    }
   ],
   "source": [
    "y * x2"
   ]
  },
  {
   "cell_type": "code",
   "execution_count": 107,
   "id": "e6eea6a6-767c-4888-9f7c-3a38606cb806",
   "metadata": {},
   "outputs": [
    {
     "data": {
      "text/plain": [
       "tensor([[0., 0., 0.],\n",
       "        [1., 0., 0.]])"
      ]
     },
     "execution_count": 107,
     "metadata": {},
     "output_type": "execute_result"
    }
   ],
   "source": [
    "y = torch.Tensor((1, 0, 0))\n",
    "W = torch.Tensor(((0, 0, 0), (1, 0, 0)))\n",
    "W * y"
   ]
  },
  {
   "cell_type": "code",
   "execution_count": 114,
   "id": "f6040742-b557-448d-adad-35102f898c34",
   "metadata": {},
   "outputs": [
    {
     "data": {
      "text/plain": [
       "tensor([[0., 0., 0.],\n",
       "        [1., 0., 0.]])"
      ]
     },
     "execution_count": 114,
     "metadata": {},
     "output_type": "execute_result"
    }
   ],
   "source": [
    "W"
   ]
  },
  {
   "cell_type": "code",
   "execution_count": 111,
   "id": "498189d8-f85c-42e5-9fde-5091681f1786",
   "metadata": {},
   "outputs": [
    {
     "data": {
      "text/plain": [
       "tensor([1., 0., 0.])"
      ]
     },
     "execution_count": 111,
     "metadata": {},
     "output_type": "execute_result"
    }
   ],
   "source": [
    "y"
   ]
  },
  {
   "cell_type": "code",
   "execution_count": 113,
   "id": "782353a9-df1e-4310-b628-d9b52de96f60",
   "metadata": {},
   "outputs": [
    {
     "data": {
      "text/plain": [
       "tensor([0., 1.])"
      ]
     },
     "execution_count": 113,
     "metadata": {},
     "output_type": "execute_result"
    }
   ],
   "source": [
    "torch.matmul(y, W.T)"
   ]
  },
  {
   "cell_type": "code",
   "execution_count": 201,
   "id": "17d183db-b279-4220-9af0-2265091e5865",
   "metadata": {},
   "outputs": [],
   "source": [
    "class HebbLinear(nn.Module):\n",
    "    def __init__(\n",
    "            self,\n",
    "            input_dim: int,\n",
    "            output_dim: int,\n",
    "    ) -> None:\n",
    "        \"\"\"\n",
    "        ...\n",
    "        \"\"\"\n",
    "        super(HebbLinear, self).__init__()\n",
    "        self.input_dim = input_dim\n",
    "        self.output_dim = output_dim\n",
    "        self.W = nn.Parameter(torch.randn(input_dim, output_dim))\n",
    "\n",
    "    def forward(self, x):\n",
    "        # standard forward pass\n",
    "        y = torch.matmul(x, self.W)\n",
    "\n",
    "        # compute Oja's learning rule (ΔW = x * y^T) and store in grad\n",
    "        if self.training:\n",
    "            dW = x.unsqueeze(-1) * y.unsqueeze(-2)\n",
    "            if dW.dim() > 2:\n",
    "                dW = torch.sum(dW, 0)\n",
    "            self.W.grad = dW\n",
    "\n",
    "        return y"
   ]
  },
  {
   "cell_type": "code",
   "execution_count": 196,
   "id": "7947ad8d-269c-48dd-8544-1f3ab9ddfc3d",
   "metadata": {},
   "outputs": [],
   "source": [
    "model = HebbLinear(4, 3)"
   ]
  },
  {
   "cell_type": "code",
   "execution_count": 199,
   "id": "28b8ef53-66aa-4d77-99d7-a0306413456e",
   "metadata": {},
   "outputs": [],
   "source": [
    "x = torch.Tensor((1, 2, 3, 4))"
   ]
  },
  {
   "cell_type": "code",
   "execution_count": 200,
   "id": "0ecbc6dd-8c3d-4a1d-b33a-598c4a37fc2f",
   "metadata": {},
   "outputs": [
    {
     "name": "stdout",
     "output_type": "stream",
     "text": [
      "> \u001b[0;32m/var/folders/s1/tvdnvl8n0l52wc16d3x78qlw0000gn/T/ipykernel_64284/3037110731.py\u001b[0m(25)\u001b[0;36mforward\u001b[0;34m()\u001b[0m\n",
      "\u001b[0;32m     23 \u001b[0;31m                \u001b[0mdW\u001b[0m \u001b[0;34m=\u001b[0m \u001b[0mtorch\u001b[0m\u001b[0;34m.\u001b[0m\u001b[0msum\u001b[0m\u001b[0;34m(\u001b[0m\u001b[0mdW\u001b[0m\u001b[0;34m,\u001b[0m \u001b[0;36m0\u001b[0m\u001b[0;34m)\u001b[0m\u001b[0;34m\u001b[0m\u001b[0;34m\u001b[0m\u001b[0m\n",
      "\u001b[0m\u001b[0;32m     24 \u001b[0;31m            \u001b[0;32mimport\u001b[0m \u001b[0mpdb\u001b[0m\u001b[0;34m;\u001b[0m \u001b[0mpdb\u001b[0m\u001b[0;34m.\u001b[0m\u001b[0mset_trace\u001b[0m\u001b[0;34m(\u001b[0m\u001b[0;34m)\u001b[0m\u001b[0;34m\u001b[0m\u001b[0;34m\u001b[0m\u001b[0m\n",
      "\u001b[0m\u001b[0;32m---> 25 \u001b[0;31m            \u001b[0mself\u001b[0m\u001b[0;34m.\u001b[0m\u001b[0mW\u001b[0m\u001b[0;34m.\u001b[0m\u001b[0mgrad\u001b[0m \u001b[0;34m=\u001b[0m \u001b[0mdW\u001b[0m  \u001b[0;31m# store in grad to be used with common optimizers\u001b[0m\u001b[0;34m\u001b[0m\u001b[0;34m\u001b[0m\u001b[0m\n",
      "\u001b[0m\u001b[0;32m     26 \u001b[0;31m\u001b[0;34m\u001b[0m\u001b[0m\n",
      "\u001b[0m\u001b[0;32m     27 \u001b[0;31m        \u001b[0;32mreturn\u001b[0m \u001b[0my\u001b[0m\u001b[0;34m\u001b[0m\u001b[0;34m\u001b[0m\u001b[0m\n",
      "\u001b[0m\n"
     ]
    },
    {
     "name": "stdin",
     "output_type": "stream",
     "text": [
      "ipdb>  dW.shape\n"
     ]
    },
    {
     "name": "stdout",
     "output_type": "stream",
     "text": [
      "torch.Size([4, 3])\n"
     ]
    },
    {
     "name": "stdin",
     "output_type": "stream",
     "text": [
      "ipdb>  q\n"
     ]
    }
   ],
   "source": [
    "model(x)"
   ]
  },
  {
   "cell_type": "code",
   "execution_count": null,
   "id": "e6653352-cbb7-4133-bf13-2190eec56a6f",
   "metadata": {},
   "outputs": [],
   "source": []
  }
 ],
 "metadata": {
  "kernelspec": {
   "display_name": "Python (hebbian)",
   "language": "python",
   "name": "hebbian"
  },
  "language_info": {
   "codemirror_mode": {
    "name": "ipython",
    "version": 3
   },
   "file_extension": ".py",
   "mimetype": "text/x-python",
   "name": "python",
   "nbconvert_exporter": "python",
   "pygments_lexer": "ipython3",
   "version": "3.8.19"
  }
 },
 "nbformat": 4,
 "nbformat_minor": 5
}

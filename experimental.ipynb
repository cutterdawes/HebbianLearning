{
 "cells": [
  {
   "cell_type": "code",
   "execution_count": 3,
   "id": "2d3ef6eb-5851-477a-9773-21855a1471c8",
   "metadata": {},
   "outputs": [
    {
     "name": "stderr",
     "output_type": "stream",
     "text": [
      "/opt/anaconda3/envs/hebbian/lib/python3.8/site-packages/tqdm/auto.py:21: TqdmWarning: IProgress not found. Please update jupyter and ipywidgets. See https://ipywidgets.readthedocs.io/en/stable/user_install.html\n",
      "  from .autonotebook import tqdm as notebook_tqdm\n"
     ]
    }
   ],
   "source": [
    "import torch\n",
    "from torch import nn, optim\n",
    "import torch.nn.functional as F\n",
    "from torch.nn.modules.utils import _pair\n",
    "from torch.optim.lr_scheduler import StepLR\n",
    "from torch.utils.data import DataLoader\n",
    "from torchvision.datasets import MNIST"
   ]
  },
  {
   "cell_type": "markdown",
   "id": "763d1ebc-5558-471d-9bcc-b98596363135",
   "metadata": {},
   "source": [
    "# BP Baseline"
   ]
  },
  {
   "cell_type": "code",
   "execution_count": 6,
   "id": "ee6e77a2-afa6-44ef-b357-da166a746d44",
   "metadata": {},
   "outputs": [],
   "source": [
    "from genhebb import FastMNIST"
   ]
  },
  {
   "cell_type": "code",
   "execution_count": 20,
   "id": "1bf77ce3-3586-41f0-a8a3-77294fc2ce94",
   "metadata": {},
   "outputs": [],
   "source": [
    "class baseline(nn.Module):\n",
    "    def __init__(self):\n",
    "        super(baseline, self).__init__()\n",
    "        self.input = nn.Linear(28 * 28, 2000)\n",
    "        self.hidden = nn.Linear(2000, 2000)\n",
    "        self.output = nn.Linear(2000, 10)\n",
    "    \n",
    "    def forward(self, x):\n",
    "        x = x.view(-1, 28 * 28)\n",
    "        x = F.relu(self.input(x))\n",
    "        x = F.relu(self.hidden(x))\n",
    "        x = self.output(x)\n",
    "        return x"
   ]
  },
  {
   "cell_type": "code",
   "execution_count": null,
   "id": "76c1b60a-e809-4cd7-8a4c-14a0dab037fe",
   "metadata": {},
   "outputs": [],
   "source": [
    "epochs = 50\n",
    "learning_rate = 0.001\n",
    "batch_size = 64"
   ]
  },
  {
   "cell_type": "code",
   "execution_count": 23,
   "id": "db2daf6f-46d5-48a4-ac12-561aad4a66a1",
   "metadata": {},
   "outputs": [],
   "source": [
    "trainset = FastMNIST('./data', train=True, download=True)\n",
    "trainloader = DataLoader(trainset, batch_size=batch_size, shuffle=True)"
   ]
  },
  {
   "cell_type": "code",
   "execution_count": 16,
   "id": "c3a3ef05-68c5-4f45-800c-835e84fa26ba",
   "metadata": {},
   "outputs": [],
   "source": [
    "testset = FastMNIST('./data', train=False, download=True)\n",
    "testloader = DataLoader(testset, batch_size=batch_size, shuffle=False)"
   ]
  },
  {
   "cell_type": "code",
   "execution_count": 21,
   "id": "105a5dbc-dd95-42fc-9d43-a0792435f17a",
   "metadata": {},
   "outputs": [],
   "source": [
    "criterion = nn.CrossEntropyLoss()\n",
    "optimizer = optim.Adam(model.parameters(), lr=learning_rate)"
   ]
  },
  {
   "cell_type": "code",
   "execution_count": null,
   "id": "d9a19966-3315-4e12-9572-c4ad91d24ffd",
   "metadata": {},
   "outputs": [],
   "source": [
    "# train baseline model (BP end-to-end)\n",
    "for epoch in range(epochs):\n",
    "    model.train()\n",
    "    running_loss = 0.0\n",
    "    for images, labels in trainloader:\n",
    "\n",
    "        # zero the parameter gradients\n",
    "        optimizer.zero_grad()\n",
    "\n",
    "        # forward + backward + optimize\n",
    "        outputs = model(images)\n",
    "        loss = criterion(outputs, labels)\n",
    "        loss.backward()\n",
    "        optimizer.step()\n",
    "\n",
    "        # update training statistics\n",
    "        running_loss += loss.item()\n",
    "    print(f'Epoch [{epoch+1}/{epochs}], Loss: {running_loss/len(trainloader)}')"
   ]
  },
  {
   "cell_type": "code",
   "execution_count": null,
   "id": "1621a901-a3fe-475e-b2e5-b6defa4d818a",
   "metadata": {},
   "outputs": [],
   "source": [
    "model.eval()\n",
    "running_loss = 0.\n",
    "correct = 0\n",
    "total = 0\n",
    "# since we're not training, we don't need to calculate the gradients for our outputs\n",
    "with torch.no_grad():\n",
    "    for data in testloader:\n",
    "        images, labels = data\n",
    "        images = images.to(device)\n",
    "        labels = labels.to(device)\n",
    "        # calculate outputs by running images through the network\n",
    "        outputs = model(images)\n",
    "        # the class with the highest energy is what we choose as prediction\n",
    "        _, predicted = torch.max(outputs.data, 1)\n",
    "        total += labels.size(0)\n",
    "        correct += (predicted == labels).sum().item()\n",
    "        loss = criterion(outputs, labels)\n",
    "        running_loss += loss.item()\n",
    "\n",
    "print(f'Test accuracy: {100 * correct / total} %')\n",
    "print(f'test loss: {running_loss / total:.3f}')"
   ]
  },
  {
   "cell_type": "markdown",
   "id": "5e4189aa-ebb8-4583-8dbc-f25e8a7b8d84",
   "metadata": {},
   "source": [
    "**Results from Cajal:**\n",
    "\n",
    "Training...\n",
    "Epoch [1/50], Loss: 0.188\n",
    "Epoch [2/50], Loss: 0.080\n",
    "Epoch [3/50], Loss: 0.058\n",
    "Epoch [4/50], Loss: 0.043\n",
    "Epoch [5/50], Loss: 0.034\n",
    "Epoch [6/50], Loss: 0.030\n",
    "Epoch [7/50], Loss: 0.027\n",
    "Epoch [8/50], Loss: 0.021\n",
    "Epoch [9/50], Loss: 0.026\n",
    "Epoch [10/50], Loss: 0.023\n",
    "Epoch [11/50], Loss: 0.014\n",
    "Epoch [12/50], Loss: 0.017\n",
    "Epoch [13/50], Loss: 0.017\n",
    "Epoch [14/50], Loss: 0.017\n",
    "Epoch [15/50], Loss: 0.016\n",
    "Epoch [16/50], Loss: 0.013\n",
    "Epoch [17/50], Loss: 0.013\n",
    "Epoch [18/50], Loss: 0.017\n",
    "Epoch [19/50], Loss: 0.010\n",
    "Epoch [20/50], Loss: 0.014\n",
    "Epoch [21/50], Loss: 0.012\n",
    "Epoch [22/50], Loss: 0.011\n",
    "Epoch [23/50], Loss: 0.012\n",
    "Epoch [24/50], Loss: 0.016\n",
    "Epoch [25/50], Loss: 0.010\n",
    "Epoch [26/50], Loss: 0.009\n",
    "Epoch [27/50], Loss: 0.009\n",
    "Epoch [28/50], Loss: 0.009\n",
    "Epoch [29/50], Loss: 0.016\n",
    "Epoch [30/50], Loss: 0.008\n",
    "Epoch [31/50], Loss: 0.013\n",
    "Epoch [32/50], Loss: 0.009\n",
    "Epoch [33/50], Loss: 0.012\n",
    "Epoch [34/50], Loss: 0.008\n",
    "Epoch [35/50], Loss: 0.013\n",
    "Epoch [36/50], Loss: 0.012\n",
    "Epoch [37/50], Loss: 0.015\n",
    "Epoch [38/50], Loss: 0.004\n",
    "Epoch [39/50], Loss: 0.019\n",
    "Epoch [40/50], Loss: 0.013\n",
    "Epoch [41/50], Loss: 0.008\n",
    "Epoch [42/50], Loss: 0.010\n",
    "Epoch [43/50], Loss: 0.009\n",
    "Epoch [44/50], Loss: 0.012\n",
    "Epoch [45/50], Loss: 0.011\n",
    "Epoch [46/50], Loss: 0.006\n",
    "Epoch [47/50], Loss: 0.009\n",
    "Epoch [48/50], Loss: 0.011\n",
    "Epoch [49/50], Loss: 0.008\n",
    "Epoch [50/50], Loss: 0.011\n",
    "Testing...\n",
    "Accuracy: 98.33 %\n",
    "Loss: 0.004"
   ]
  },
  {
   "cell_type": "markdown",
   "id": "18bcd7f9-00b3-42d0-a090-5b41fb6bcd6c",
   "metadata": {},
   "source": [
    "# Hebb's Rule"
   ]
  },
  {
   "cell_type": "code",
   "execution_count": 201,
   "id": "17d183db-b279-4220-9af0-2265091e5865",
   "metadata": {},
   "outputs": [],
   "source": [
    "class HebbLinear(nn.Module):\n",
    "    def __init__(\n",
    "            self,\n",
    "            input_dim: int,\n",
    "            output_dim: int,\n",
    "    ) -> None:\n",
    "        \"\"\"\n",
    "        ...\n",
    "        \"\"\"\n",
    "        super(HebbLinear, self).__init__()\n",
    "        self.input_dim = input_dim\n",
    "        self.output_dim = output_dim\n",
    "        self.W = nn.Parameter(torch.randn(input_dim, output_dim))\n",
    "\n",
    "    def forward(self, x):\n",
    "        # standard forward pass\n",
    "        y = torch.matmul(x, self.W)\n",
    "\n",
    "        # compute Oja's learning rule (ΔW = x * y^T) and store in grad\n",
    "        if self.training:\n",
    "            dW = x.unsqueeze(-1) * y.unsqueeze(-2)\n",
    "            if dW.dim() > 2:\n",
    "                dW = torch.sum(dW, 0)\n",
    "            self.W.grad = dW\n",
    "\n",
    "        return y"
   ]
  },
  {
   "cell_type": "markdown",
   "id": "45b30e10-4196-40da-8fa7-84e4884c0d68",
   "metadata": {},
   "source": [
    "**Results from Cajal (1 epoch):**\n",
    "\n",
    "Epoch [1/50]\n",
    "Train loss: 0.610, \t train accuracy: 81 %\n",
    "Test loss: 0.080, \t test accuracy: 86 %\n",
    "\n",
    "Epoch [11/50]\n",
    "Train loss: 0.215, \t train accuracy: 93 %\n",
    "Test loss: 0.076, \t test accuracy: 89 %\n",
    "\n",
    "Epoch [21/50]\n",
    "Train loss: 0.177, \t train accuracy: 94 %\n",
    "Test loss: 0.094, \t test accuracy: 89 %\n",
    "\n",
    "Epoch [31/50]\n",
    "Train loss: 0.146, \t train accuracy: 95 %\n",
    "Test loss: 0.111, \t test accuracy: 89 %\n",
    "\n",
    "Epoch [41/50]\n",
    "Train loss: 0.132, \t train accuracy: 96 %\n",
    "Test loss: 0.132, \t test accuracy: 89 %\n",
    "\n",
    "Epoch [50/50]\n",
    "Train loss: 0.124, \t train accuracy: 96 %\n",
    "Test loss: 0.141, \t test accuracy: 89 %"
   ]
  },
  {
   "cell_type": "markdown",
   "id": "55a74a9a-dbdf-4722-aa81-d18183a7c0a2",
   "metadata": {},
   "source": [
    "# Alternative Baseline: Random Frozen Weights"
   ]
  },
  {
   "cell_type": "code",
   "execution_count": null,
   "id": "cbc0bc53-c9a7-4a3e-8aab-12e833a6a66e",
   "metadata": {},
   "outputs": [],
   "source": []
  }
 ],
 "metadata": {
  "kernelspec": {
   "display_name": "Python (hebbian)",
   "language": "python",
   "name": "hebbian"
  },
  "language_info": {
   "codemirror_mode": {
    "name": "ipython",
    "version": 3
   },
   "file_extension": ".py",
   "mimetype": "text/x-python",
   "name": "python",
   "nbconvert_exporter": "python",
   "pygments_lexer": "ipython3",
   "version": "3.8.19"
  }
 },
 "nbformat": 4,
 "nbformat_minor": 5
}

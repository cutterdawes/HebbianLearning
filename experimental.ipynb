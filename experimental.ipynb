{
 "cells": [
  {
   "cell_type": "code",
   "execution_count": 3,
   "id": "2d3ef6eb-5851-477a-9773-21855a1471c8",
   "metadata": {},
   "outputs": [
    {
     "name": "stderr",
     "output_type": "stream",
     "text": [
      "/opt/anaconda3/envs/hebbian/lib/python3.8/site-packages/tqdm/auto.py:21: TqdmWarning: IProgress not found. Please update jupyter and ipywidgets. See https://ipywidgets.readthedocs.io/en/stable/user_install.html\n",
      "  from .autonotebook import tqdm as notebook_tqdm\n"
     ]
    }
   ],
   "source": [
    "import torch\n",
    "from torch import nn, optim\n",
    "import torch.nn.functional as F\n",
    "from torch.nn.modules.utils import _pair\n",
    "from torch.optim.lr_scheduler import StepLR\n",
    "from torch.utils.data import DataLoader\n",
    "from torchvision.datasets import MNIST"
   ]
  },
  {
   "cell_type": "code",
   "execution_count": 6,
   "id": "ee6e77a2-afa6-44ef-b357-da166a746d44",
   "metadata": {},
   "outputs": [],
   "source": [
    "from genhebb import FastMNIST"
   ]
  },
  {
   "cell_type": "code",
   "execution_count": 20,
   "id": "1bf77ce3-3586-41f0-a8a3-77294fc2ce94",
   "metadata": {},
   "outputs": [],
   "source": [
    "class baseline(nn.Module):\n",
    "    def __init__(self):\n",
    "        super(baseline, self).__init__()\n",
    "        self.input = nn.Linear(28 * 28, 2000)\n",
    "        self.hidden = nn.Linear(2000, 2000)\n",
    "        self.output = nn.Linear(2000, 10)\n",
    "    \n",
    "    def forward(self, x):\n",
    "        x = x.view(-1, 28 * 28)\n",
    "        x = F.relu(self.input(x))\n",
    "        x = F.relu(self.hidden(x))\n",
    "        x = self.output(x)\n",
    "        return x"
   ]
  },
  {
   "cell_type": "code",
   "execution_count": null,
   "id": "76c1b60a-e809-4cd7-8a4c-14a0dab037fe",
   "metadata": {},
   "outputs": [],
   "source": [
    "epochs = 50\n",
    "learning_rate = 0.001\n",
    "batch_size = 64"
   ]
  },
  {
   "cell_type": "code",
   "execution_count": 23,
   "id": "db2daf6f-46d5-48a4-ac12-561aad4a66a1",
   "metadata": {},
   "outputs": [],
   "source": [
    "trainset = FastMNIST('./data', train=True, download=True)\n",
    "trainloader = DataLoader(trainset, batch_size=batch_size, shuffle=True)"
   ]
  },
  {
   "cell_type": "code",
   "execution_count": 16,
   "id": "c3a3ef05-68c5-4f45-800c-835e84fa26ba",
   "metadata": {},
   "outputs": [],
   "source": [
    "testset = FastMNIST('./data', train=False, download=True)\n",
    "testloader = DataLoader(testset, batch_size=batch_size, shuffle=False)"
   ]
  },
  {
   "cell_type": "code",
   "execution_count": 21,
   "id": "105a5dbc-dd95-42fc-9d43-a0792435f17a",
   "metadata": {},
   "outputs": [],
   "source": [
    "criterion = nn.CrossEntropyLoss()\n",
    "optimizer = optim.Adam(model.parameters(), lr=learning_rate)"
   ]
  },
  {
   "cell_type": "code",
   "execution_count": null,
   "id": "d9a19966-3315-4e12-9572-c4ad91d24ffd",
   "metadata": {},
   "outputs": [],
   "source": [
    "# train baseline model (BP end-to-end)\n",
    "for epoch in range(epochs):\n",
    "    model.train()\n",
    "    running_loss = 0.0\n",
    "    for images, labels in trainloader:\n",
    "\n",
    "        # zero the parameter gradients\n",
    "        optimizer.zero_grad()\n",
    "\n",
    "        # forward + backward + optimize\n",
    "        outputs = model(images)\n",
    "        loss = criterion(outputs, labels)\n",
    "        loss.backward()\n",
    "        optimizer.step()\n",
    "\n",
    "        # update training statistics\n",
    "        running_loss += loss.item()\n",
    "    print(f'Epoch [{epoch+1}/{epochs}], Loss: {running_loss/len(trainloader)}')"
   ]
  },
  {
   "cell_type": "code",
   "execution_count": null,
   "id": "1621a901-a3fe-475e-b2e5-b6defa4d818a",
   "metadata": {},
   "outputs": [],
   "source": [
    "model.eval()\n",
    "running_loss = 0.\n",
    "correct = 0\n",
    "total = 0\n",
    "# since we're not training, we don't need to calculate the gradients for our outputs\n",
    "with torch.no_grad():\n",
    "    for data in testloader:\n",
    "        images, labels = data\n",
    "        images = images.to(device)\n",
    "        labels = labels.to(device)\n",
    "        # calculate outputs by running images through the network\n",
    "        outputs = model(images)\n",
    "        # the class with the highest energy is what we choose as prediction\n",
    "        _, predicted = torch.max(outputs.data, 1)\n",
    "        total += labels.size(0)\n",
    "        correct += (predicted == labels).sum().item()\n",
    "        loss = criterion(outputs, labels)\n",
    "        running_loss += loss.item()\n",
    "\n",
    "print(f'Test accuracy: {100 * correct / total} %')\n",
    "print(f'test loss: {running_loss / total:.3f}')"
   ]
  }
 ],
 "metadata": {
  "kernelspec": {
   "display_name": "Python (hebbian)",
   "language": "python",
   "name": "hebbian"
  },
  "language_info": {
   "codemirror_mode": {
    "name": "ipython",
    "version": 3
   },
   "file_extension": ".py",
   "mimetype": "text/x-python",
   "name": "python",
   "nbconvert_exporter": "python",
   "pygments_lexer": "ipython3",
   "version": "3.8.19"
  }
 },
 "nbformat": 4,
 "nbformat_minor": 5
}
